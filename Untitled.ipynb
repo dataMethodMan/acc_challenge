{
 "cells": [
  {
   "cell_type": "markdown",
   "id": "2f6fd9b4",
   "metadata": {},
   "source": [
    "\n",
    "1.  Data importation: extract all agent utterances of conversations that have “taxi” as only goal (taxi booking service)"
   ]
  },
  {
   "cell_type": "code",
   "execution_count": 9,
   "id": "d6a02736",
   "metadata": {},
   "outputs": [],
   "source": [
    "import json\n",
    "import os \n",
    "import pandas as pd \n",
    "# obtain path to the script \n",
    "dir_path = os.path.dirname(\"__file__\")\n",
    "\n",
    "data_path=os.path.join(dir_path, \"data.json\") # expects that the data file is stored in the current directory\n",
    "f=open(data_path)\n",
    "data=json.load(f)"
   ]
  },
  {
   "cell_type": "code",
   "execution_count": 32,
   "id": "16754cf8",
   "metadata": {},
   "outputs": [
    {
     "name": "stdout",
     "output_type": "stream",
     "text": [
      "There are 345 conversations that feature 'train' only\n",
      "(3542, 4)\n",
      "(1771, 4)\n"
     ]
    }
   ],
   "source": [
    "\"\"\"\n",
    "identifies instances in json documents where only 'train' occurs\n",
    "\"\"\"\n",
    "\n",
    "# each key refers to conversation of X exchanges\n",
    "# extract the conversation goals \n",
    "conversation_list=[] # a list to hold the list of all exchanges per conversation \n",
    "for key in data.keys(): # for each conversation \n",
    "    conversation_goals_list=[] # for each conversation keep all exchanges \n",
    "    for item in data[key][\"goal\"]:\n",
    "        if item != \"message\" and item != \"topic\": # ignore topic and message \n",
    "            # loop through and grab all populated conversation goals \n",
    "            if len(data[key][\"goal\"][item].keys()) > 0: # skip empty goals \n",
    "                conversation_goals_list.append(item)\n",
    "    conversation_list.append(conversation_goals_list) # list of convo_goals per conversation \n",
    "        \n",
    "        \n",
    "# populate a df with unique conversation id, and a list of respective goals \n",
    "df_convo=pd.DataFrame({\"convo_id\" : list(data.keys()), \"convo_goals\": conversation_list})\n",
    "#print(df_convo.shape)\n",
    "\n",
    "# method to determine if taxi features as a goal \n",
    "def detect_target_values(row):\n",
    "    # first see if train is present \n",
    "    if \"train\" in row:\n",
    "        # excluding all multiple-topic conversations \n",
    "        if len(row) == 1:\n",
    "            return 1\n",
    "    return 0\n",
    "# identifies all instances of train and further filters all non singleton instances of 'train' conversations\n",
    "df_convo[\"train\"] = df_convo[\"convo_goals\"].apply(detect_target_values) \n",
    "# create a sub df with only train based topics. \n",
    "df_train=df_convo[df_convo.train == 1]\n",
    "print(\"There are {} conversations that feature 'train' only\".format(df_train.shape[0]))\n",
    "\n",
    "# having identified are target conversations, we iterate through the data and pull out the info related to our keys\n",
    "train_dict = {key: value for key, value in data.items() if key in list(df_train.convo_id)}\n",
    "\n",
    "# drill into the 'logs' and extract : text || dialog_act || turn_id\n",
    "text_list=[]\n",
    "dialog_list=[] \n",
    "turn_id_list=[]\n",
    "id_list=[]\n",
    "for k,v in train_dict.items():\n",
    "    for value in v['log']:\n",
    "        text_list.append(value['text'])\n",
    "        dialog_list.append(value['dialog_act'].keys())\n",
    "        turn_id_list.append(value['turn_id'])\n",
    "        id_list.append(k) # retain conversation reference \n",
    "        \n",
    "# populate a dataframe with our targeted data \n",
    "df_utterances=pd.DataFrame({\"ids\": id_list, \"turns\":turn_id_list, \"dialog_intent\": dialog_list, \"text\": text_list })\n",
    "print(df_utterances.shape)\n",
    "\n",
    "# only retain conversations related to the agent, i.e modulus 2\n",
    "df_agent_utterances=df_utterances[df_utterances.turns % 2==1]\n",
    "print(df_agent_utterances.shape)\n",
    "\n"
   ]
  },
  {
   "cell_type": "code",
   "execution_count": null,
   "id": "2102db21",
   "metadata": {},
   "outputs": [],
   "source": [
    "print(df_utterances.head())"
   ]
  },
  {
   "cell_type": "markdown",
   "id": "df9e1bd6",
   "metadata": {},
   "source": [
    "2. Preprocessing: perform any preprocessing/utterance encoding you may deem necessary for the tasks below"
   ]
  },
  {
   "cell_type": "code",
   "execution_count": 91,
   "id": "08b45121",
   "metadata": {},
   "outputs": [],
   "source": [
    "from sklearn.feature_extraction.text import TfidfVectorizer\n",
    "import string \n",
    "import re\n",
    "from sklearn.cluster import KMeans\n",
    "\n",
    "from nltk.corpus import stopwords\n",
    "import matplotlib.pyplot as plt\n",
    "# run below if having trouble with accessing stopwords\n",
    "# need only be run once. \n",
    "#nltk.download('stopwords')\n",
    "stop = set(stopwords.words(\"english\"))\n",
    "\n",
    "\n",
    "class PreProcessText:\n",
    "    \"\"\" class that performs tfidf on text\"\"\"\n",
    "    def __init__(self, df):\n",
    "        \"\"\" init accepts the dataframe, adds the text col and processes the tfidf\"\"\"\n",
    "        self.all_rows=[]\n",
    "        self.df = df\n",
    "        # initialise vectoriser, limit terms to ones that have a % frequency  x > 1 and x < 90\n",
    "        self.vectoriser=TfidfVectorizer(min_df=0.01, max_df=0.90)\n",
    "        # vectorise the text \n",
    "        self.df['body_text'] = self.df.text.apply(self.create_vsm)\n",
    "        \n",
    "        \n",
    "    def create_vsm(self, convo):\n",
    "        # mask some generic symbols \n",
    "        convo=re.sub(\"\\d+:\\d+\", \"time_stamp\", convo) # substitute time ref for a generic stamp: 10:10 -> time_Stamp\n",
    "        convo= re.sub(\"\\d+\\.\\d+\", \"money_ref\", convo) # sub money ref for generic stamp: 12.50 -> money_ref\n",
    "        convo=re.sub(\"[A-Z]{1,}\\d+\", \"ref_num\", convo)# sub train ref for generic stamp: TR900 -> ref_num\n",
    "        \n",
    "        # remove punctuation \n",
    "        removeSyms = string.punctuation \n",
    "        # include underscore for above masks \n",
    "        removeSyms = removeSyms.replace(\"_\", \"\")\n",
    "        pattern=r\"[{}]\".format(removeSyms)\n",
    "        # apply the pattern to the string, remove space, lowercase \n",
    "        convo = re.sub(pattern, \" \", convo.strip().lower())\n",
    "        \n",
    "        # finally, tokenize and exclude stopwords \n",
    "        sent=[word for word in convo.split() if word not in stop]\n",
    "        return \" \".join(sent) \n",
    "        \n",
    "    \n",
    "    def vectorise(self):\n",
    "        \"\"\"method runs tfidf vectoriser\"\"\"\n",
    "        text = self.df.body_text.values\n",
    "        X = self.vectoriser.fit_transform(text)\n",
    "        return X"
   ]
  },
  {
   "cell_type": "markdown",
   "id": "9a5ac099",
   "metadata": {},
   "source": [
    "4. Utterance classification: train and evaluate a supervised utterance classifier that recognizes utterances of these 5 most common utterance types. How well is the classifier working on unseen utterances of known types? Could you use this classifier to realize a utterance does not belong to any known type, yet properly classify utterances of known types? How?"
   ]
  },
  {
   "cell_type": "code",
   "execution_count": 94,
   "id": "cd786c2a",
   "metadata": {},
   "outputs": [
    {
     "name": "stderr",
     "output_type": "stream",
     "text": [
      "/var/folders/9t/cmsf896j78b50t605vx52k640000gn/T/ipykernel_12478/4059216449.py:23: SettingWithCopyWarning: \n",
      "A value is trying to be set on a copy of a slice from a DataFrame.\n",
      "Try using .loc[row_indexer,col_indexer] = value instead\n",
      "\n",
      "See the caveats in the documentation: https://pandas.pydata.org/pandas-docs/stable/user_guide/indexing.html#returning-a-view-versus-a-copy\n",
      "  self.df['body_text'] = self.df.text.apply(self.create_vsm)\n"
     ]
    },
    {
     "name": "stdout",
     "output_type": "stream",
     "text": [
      " Fit 2 clusters\n",
      " Fit 3 clusters\n",
      " Fit 4 clusters\n",
      " Fit 5 clusters\n",
      " Fit 6 clusters\n",
      " Fit 7 clusters\n",
      " Fit 8 clusters\n",
      " Fit 9 clusters\n",
      " Fit 10 clusters\n",
      " Fit 11 clusters\n",
      " Fit 12 clusters\n",
      " Fit 13 clusters\n",
      " Fit 14 clusters\n",
      " Fit 15 clusters\n",
      " Fit 16 clusters\n",
      " Fit 17 clusters\n",
      " Fit 18 clusters\n",
      " Fit 19 clusters\n",
      " Fit 20 clusters\n"
     ]
    },
    {
     "data": {
      "image/png": "[encoded data removed]",
      "text/plain": [
       "<Figure size 432x288 with 1 Axes>"
      ]
     },
     "metadata": {
      "needs_background": "light"
     },
     "output_type": "display_data"
    }
   ],
   "source": [
    "text_processor=PreProcessText(df_agent_utterances)\n",
    "\n",
    "def find_optimal_num_clusters(data, max_k):\n",
    "    \"\"\" method takes data and target num_clusters and determines optimal number of clusters\"\"\"\n",
    "    iters=range(2,max_k + 1, 1) # set iteration number \n",
    "    inertia_values=[]\n",
    "    \n",
    "    for k in iters:\n",
    "        inertia_values.append(KMeans(n_clusters=k, init='k-means++', \n",
    "                                random_state=10).fit(data).inertia_)\n",
    "        print(' Fit {} clusters'.format(k))\n",
    "        \n",
    "    (f, ax) = plt.subplots(1,1)\n",
    "    ax.plot(iters, inertia_values, marker=\"o\")\n",
    "    ax.set_xlabel(\"cluster nums\")\n",
    "    ax.set_xticks(iters)\n",
    "    ax.set_xticklabels(iters)\n",
    "    ax.set_ylabel(\"inertia\")\n",
    "    ax.set_title(\"inertia per cluster\")\n",
    "    plt.show()\n",
    "\n",
    "X=text_processor.vectorise()\n",
    "find_optimal_num_clusters(X, 20)\n",
    "# optimal number of clusters == 10"
   ]
  },
  {
   "cell_type": "markdown",
   "id": "d758a405",
   "metadata": {},
   "source": [
    "running the above cell would suggest that the ideal number of clusters would be 10 \n",
    "Further work could focus on drilling into the differences of the clusters, though the suspicion is that there is not enough input data to generate distinct rich clusters. I.E much of the input text is very similar. \n",
    "Proceeding with the assignment brief it was elected to only focus on 5 sub topics. "
   ]
  },
  {
   "cell_type": "code",
   "execution_count": 143,
   "id": "a0063de5",
   "metadata": {},
   "outputs": [
    {
     "name": "stdout",
     "output_type": "stream",
     "text": [
      "{0: 'else , trip , anything , need , departing , goodbye , help , thank , '\n",
      "    'destination , welcome',\n",
      " 1: 'depart , minutes , day , arrive , trains , travel , leave , would , like '\n",
      "    ', time',\n",
      " 2: 'fee , anything , payable , money_ref , else , booked , station , gbp , '\n",
      "    'number , reference',\n",
      " 3: 'towninfo , centre , wonderful , traveling , good , thank , nice , welcome '\n",
      "    ', great , day',\n",
      " 4: 'work , like , cambridge , book , would , arrives , leaves , train , '\n",
      "    'ref_num , time_stamp'}\n",
      "None\n"
     ]
    },
    {
     "name": "stderr",
     "output_type": "stream",
     "text": [
      "/var/folders/9t/cmsf896j78b50t605vx52k640000gn/T/ipykernel_12478/3754958004.py:12: SettingWithCopyWarning: \n",
      "A value is trying to be set on a copy of a slice from a DataFrame.\n",
      "Try using .loc[row_indexer,col_indexer] = value instead\n",
      "\n",
      "See the caveats in the documentation: https://pandas.pydata.org/pandas-docs/stable/user_guide/indexing.html#returning-a-view-versus-a-copy\n",
      "  text_processor.df['y'] = y_pred\n"
     ]
    }
   ],
   "source": [
    "import pprint as pp\n",
    "def get_cluster_themes(data,clusters,labels,n_terms):\n",
    "    \"\"\" method determines the theme of each cluster\"\"\"\n",
    "    themes_dict={}\n",
    "    df=pd.DataFrame(data.todense()).groupby(clusters).mean() # creates a row for each cluster and a column per term \n",
    "    for (i,r) in df.iterrows():\n",
    "        themes_dict[i] = \" , \".join(labels[t] for t in np.argsort(r)[-n_terms:]) # join the weights table that correspod to the top n terms in the cluser row \n",
    "    return themes_dict\n",
    "\n",
    "n5_clusters=KMeans(n_clusters=5, init=\"k-means++\", random_state=10)\n",
    "y_pred=n11_clusters.fit_predict(X.toarray())\n",
    "text_processor.df['y'] = y_pred\n",
    "themes_dict=get_cluster_themes(X, y_pred, text_processor.vectoriser.get_feature_names(), 10)\n",
    "print(pp.pprint(themes_dict))"
   ]
  },
  {
   "cell_type": "markdown",
   "id": "bdf50fc6",
   "metadata": {},
   "source": [
    "Having run the above cell one could select 5 labels for the documents as follows:\n",
    "1. saluations-leaving\n",
    "2. train-departure_needs-request\n",
    "3. money-request\n",
    "4. arrival-instructions\n",
    "5. booking-depart-instructions\n",
    "\n",
    "Alternatively one could apply LDA to the model "
   ]
  },
  {
   "cell_type": "code",
   "execution_count": 107,
   "id": "0fd2c702",
   "metadata": {},
   "outputs": [],
   "source": [
    "import gensim \n",
    "from gensim import corpora\n",
    "from gensim import models \n",
    "import numpy as np\n",
    "from gensim.corpora import Dictionary\n",
    "from gensim.models import LdaModel\n",
    "\n",
    "\n",
    "# take the processed doc and return to vector to suit gensim input type\n",
    "tokenised_text = [doc.split() for doc in text_processor.df.body_text.values]\n",
    "\n",
    "# cast to a dictionary \n",
    "dictionary=Dictionary(tokenised_text)\n",
    "corpus = [dictionary.doc2bow(doc) for doc in tokenised_text]\n",
    "#print(len(corpus))\n",
    "\n",
    "# to load the dictionary \n",
    "temp=dictionary[0]\n",
    "\n",
    "id2word=dictionary.id2token\n",
    "model=LdaModel(corpus=corpus,\n",
    "                id2word=id2word,\n",
    "                  alpha=\"auto\",\n",
    "                  eta=\"auto\",\n",
    "              iterations=400, \n",
    "              num_topics=5,\n",
    "              passes=20)"
   ]
  },
  {
   "cell_type": "code",
   "execution_count": 141,
   "id": "98e02aea",
   "metadata": {},
   "outputs": [
    {
     "name": "stdout",
     "output_type": "stream",
     "text": [
      "timestamp  refnum  would  train  like  cambridge  book  leaves  arrives  leaving\n",
      "\n",
      "time  trains  day  like  leave  would  arrive  travel  need  available\n",
      "\n",
      "pounds  moneyref  help  destination  could  departing  minutes  glad  price  departure\n",
      "\n",
      "number  reference  else  anything  moneyref  gbp  station  help  booked  payable\n",
      "\n",
      "day  welcome  thank  great  trip  goodbye  using  cambridge  centre  nice\n",
      "\n"
     ]
    }
   ],
   "source": [
    "#print(model.show_topics())\n",
    "for i, r in iter(model.show_topics()):\n",
    "    print(re.sub(r'[^a-z ]+', '', r))\n",
    "    print()\n"
   ]
  },
  {
   "cell_type": "markdown",
   "id": "2b55e4c4",
   "metadata": {},
   "source": [
    "LDA topics seem to produce less cohesive topic types, loosely speaking one could argue that themes are \n",
    "1. specific-train-time-request\n",
    "2. general-train-time-request\n",
    "3. payment-request\n",
    "4. end-of-transaction\n",
    "5. saluations-bye"
   ]
  },
  {
   "cell_type": "markdown",
   "id": "767bdd5d",
   "metadata": {},
   "source": [
    "5. Utterance classification: train and evaluate a supervised utterance classifier that recognizes utterances of these 5 most common utterance types. How well is the classifier working on unseen utterances of known types? Could you use this classifier to realize a utterance does not belong to any known type, yet properly classify utterances of known types? How?"
   ]
  },
  {
   "cell_type": "code",
   "execution_count": 142,
   "id": "7101c69c",
   "metadata": {},
   "outputs": [
    {
     "name": "stdout",
     "output_type": "stream",
     "text": [
      "             ids  turns                  dialog_intent  \\\n",
      "1   SNG0297.json      1                (Train-Request)   \n",
      "3   SNG0297.json      3  (Train-Inform, Train-Request)   \n",
      "5   SNG0297.json      5                 (Train-Inform)   \n",
      "7   SNG0297.json      7                  (general-bye)   \n",
      "9  SNG01450.json      1                (Train-Request)   \n",
      "\n",
      "                                                text  \\\n",
      "1  I 'll be glad to help . You would like to from...   \n",
      "3  I have seven trains , could you tell me when y...   \n",
      "5                             TR7943 leaves at 11:39   \n",
      "7                                 Have a great day !   \n",
      "9      What time and day are you looking to travel ?   \n",
      "\n",
      "                                           body_text  y  \n",
      "1  glad help would like london liverpool street d...  0  \n",
      "3          seven trains could tell would like arrive  1  \n",
      "5                          ref_num leaves time_stamp  4  \n",
      "7                                          great day  3  \n",
      "9                            time day looking travel  1  \n"
     ]
    }
   ],
   "source": [
    "print(text_processor.df.head())\n"
   ]
  },
  {
   "cell_type": "code",
   "execution_count": 147,
   "id": "0ba9b204",
   "metadata": {},
   "outputs": [
    {
     "name": "stdout",
     "output_type": "stream",
     "text": [
      "saluations-leaving               577\n",
      "booking-depart-instructions      427\n",
      "train-departure_needs-request    325\n",
      "arrival-instructions             228\n",
      "money-request                    214\n",
      "Name: term_intent, dtype: int64\n"
     ]
    },
    {
     "name": "stderr",
     "output_type": "stream",
     "text": [
      "/var/folders/9t/cmsf896j78b50t605vx52k640000gn/T/ipykernel_12478/150045704.py:10: SettingWithCopyWarning: \n",
      "A value is trying to be set on a copy of a slice from a DataFrame.\n",
      "Try using .loc[row_indexer,col_indexer] = value instead\n",
      "\n",
      "See the caveats in the documentation: https://pandas.pydata.org/pandas-docs/stable/user_guide/indexing.html#returning-a-view-versus-a-copy\n",
      "  text_processor.df['term_intent'] = text_processor.df.y.apply(cluster_convert)\n"
     ]
    }
   ],
   "source": [
    "def cluster_convert(row):\n",
    "    ''' method iterates over y (the cluster value assigned the doc) \n",
    "    and converts it to a text label which we manually determined'''\n",
    "    \n",
    "    intents = [\"saluations-leaving\",\"train-departure_needs-request\", \"money-request\", \n",
    "                               \"arrival-instructions\", \"booking-depart-instructions\"]\n",
    "    return intents[row]\n",
    "\n",
    "\n",
    "text_processor.df['term_intent'] = text_processor.df.y.apply(cluster_convert)\n",
    "#print(text_processor.df.head())\n",
    "print(text_processor.df.term_intent.value_counts())"
   ]
  },
  {
   "cell_type": "code",
   "execution_count": 157,
   "id": "84c731c6",
   "metadata": {},
   "outputs": [
    {
     "name": "stdout",
     "output_type": "stream",
     "text": [
      "Index(['ids', 'turns', 'dialog_intent', 'text', 'body_text', 'y',\n",
      "       'term_intent'],\n",
      "      dtype='object')\n"
     ]
    }
   ],
   "source": [
    "# create a test/train split in our data\n",
    "print(text_processor.df.columns)\n",
    "from sklearn.model_selection import train_test_split \n",
    "train, test = train_test_split(text_processor.df, test_size=0.2)\n",
    "\n",
    "train_data=train.body_text\n",
    "train_labels=train.term_intent\n",
    "\n",
    "test_data=test.body_text\n",
    "test_labels=test.term_intent"
   ]
  },
  {
   "cell_type": "code",
   "execution_count": 170,
   "id": "51abdc4a",
   "metadata": {},
   "outputs": [],
   "source": [
    "\n",
    "# use large pretrained sentence embeddings that include phrase usage\n",
    "import tensorflow_hub as hub\n",
    "\n",
    "module_url = 'https://tfhub.dev/google/universal-sentence-encoder-large/5'\n",
    "embed = hub.KerasLayer(module_url, trainable=True, name='USE_embedding')"
   ]
  },
  {
   "cell_type": "code",
   "execution_count": 173,
   "id": "74e6ecf9",
   "metadata": {},
   "outputs": [],
   "source": [
    "# one hot encoding \n",
    "y_train=pd.get_dummies(train_labels)\n",
    "y_test=pd.get_dummies(test_labels)\n",
    "\n",
    "import tensorflow as tf \n",
    "from tensorflow.keras.models import Sequential \n",
    "from tensorflow.keras.layers import Input, Dense\n",
    "from tensorflow.keras.optimizers import Adam\n",
    "\n",
    "\n",
    "\n",
    "\n",
    "def build_model(embed):\n",
    "    model=Sequential([\n",
    "        Input(shape=[], dtype=tf.string), \n",
    "        embed,\n",
    "        Dense(5, activation='softmax')\n",
    "    ])\n",
    "    model.compile(Adam(1e-5), loss=\"categorical_crossentropy\", metrics=[\"accuracy\"])\n",
    "    return model \n",
    "model = build_model(embed)\n",
    "\n"
   ]
  },
  {
   "cell_type": "code",
   "execution_count": null,
   "id": "84874770",
   "metadata": {},
   "outputs": [
    {
     "name": "stdout",
     "output_type": "stream",
     "text": [
      "Epoch 1/10\n",
      "36/36 [==============================] - ETA: 0s - loss: 1.3840 - accuracy: 0.7747INFO:tensorflow:Assets written to: tmp/checkpoint/assets\n"
     ]
    },
    {
     "name": "stderr",
     "output_type": "stream",
     "text": [
      "INFO:tensorflow:Assets written to: tmp/checkpoint/assets\n"
     ]
    },
    {
     "name": "stdout",
     "output_type": "stream",
     "text": [
      "36/36 [==============================] - 3292s 91s/step - loss: 1.3840 - accuracy: 0.7747 - val_loss: 1.3309 - val_accuracy: 0.7711\n",
      "Epoch 2/10\n",
      "36/36 [==============================] - ETA: 0s - loss: 1.2700 - accuracy: 0.8083 INFO:tensorflow:Assets written to: tmp/checkpoint/assets\n"
     ]
    },
    {
     "name": "stderr",
     "output_type": "stream",
     "text": [
      "INFO:tensorflow:Assets written to: tmp/checkpoint/assets\n"
     ]
    },
    {
     "name": "stdout",
     "output_type": "stream",
     "text": [
      "36/36 [==============================] - 5163s 143s/step - loss: 1.2700 - accuracy: 0.8083 - val_loss: 1.2143 - val_accuracy: 0.8275\n",
      "Epoch 3/10\n",
      "36/36 [==============================] - ETA: 0s - loss: 1.1563 - accuracy: 0.8551WARNING:tensorflow:5 out of the last 6 calls to <function recreate_function.<locals>.restored_function_body at 0x1943a1820> triggered tf.function retracing. Tracing is expensive and the excessive number of tracings is likely due to passing python objects instead of tensors. Also, tf.function has experimental_relax_shapes=True option that relaxes argument shapes that can avoid unnecessary retracing. Please refer to https://www.tensorflow.org/tutorials/customization/performance#python_or_tensor_args and https://www.tensorflow.org/api_docs/python/tf/function for more details.\n"
     ]
    },
    {
     "name": "stderr",
     "output_type": "stream",
     "text": [
      "WARNING:tensorflow:5 out of the last 6 calls to <function recreate_function.<locals>.restored_function_body at 0x1943a1820> triggered tf.function retracing. Tracing is expensive and the excessive number of tracings is likely due to passing python objects instead of tensors. Also, tf.function has experimental_relax_shapes=True option that relaxes argument shapes that can avoid unnecessary retracing. Please refer to https://www.tensorflow.org/tutorials/customization/performance#python_or_tensor_args and https://www.tensorflow.org/api_docs/python/tf/function for more details.\n"
     ]
    },
    {
     "name": "stdout",
     "output_type": "stream",
     "text": [
      "INFO:tensorflow:Assets written to: tmp/checkpoint/assets\n"
     ]
    },
    {
     "name": "stderr",
     "output_type": "stream",
     "text": [
      "INFO:tensorflow:Assets written to: tmp/checkpoint/assets\n"
     ]
    },
    {
     "name": "stdout",
     "output_type": "stream",
     "text": [
      "36/36 [==============================] - 7725s 215s/step - loss: 1.1563 - accuracy: 0.8551 - val_loss: 1.1052 - val_accuracy: 0.8768\n",
      "Epoch 4/10\n",
      "36/36 [==============================] - ETA: 0s - loss: 1.0534 - accuracy: 0.8728 WARNING:tensorflow:6 out of the last 7 calls to <function recreate_function.<locals>.restored_function_body at 0x1943a1820> triggered tf.function retracing. Tracing is expensive and the excessive number of tracings is likely due to passing python objects instead of tensors. Also, tf.function has experimental_relax_shapes=True option that relaxes argument shapes that can avoid unnecessary retracing. Please refer to https://www.tensorflow.org/tutorials/customization/performance#python_or_tensor_args and https://www.tensorflow.org/api_docs/python/tf/function for more details.\n"
     ]
    },
    {
     "name": "stderr",
     "output_type": "stream",
     "text": [
      "WARNING:tensorflow:6 out of the last 7 calls to <function recreate_function.<locals>.restored_function_body at 0x1943a1820> triggered tf.function retracing. Tracing is expensive and the excessive number of tracings is likely due to passing python objects instead of tensors. Also, tf.function has experimental_relax_shapes=True option that relaxes argument shapes that can avoid unnecessary retracing. Please refer to https://www.tensorflow.org/tutorials/customization/performance#python_or_tensor_args and https://www.tensorflow.org/api_docs/python/tf/function for more details.\n"
     ]
    },
    {
     "name": "stdout",
     "output_type": "stream",
     "text": [
      "INFO:tensorflow:Assets written to: tmp/checkpoint/assets\n"
     ]
    },
    {
     "name": "stderr",
     "output_type": "stream",
     "text": [
      "INFO:tensorflow:Assets written to: tmp/checkpoint/assets\n"
     ]
    },
    {
     "name": "stdout",
     "output_type": "stream",
     "text": [
      "36/36 [==============================] - 7902s 219s/step - loss: 1.0534 - accuracy: 0.8728 - val_loss: 1.0078 - val_accuracy: 0.9014\n",
      "Epoch 5/10\n",
      "36/36 [==============================] - ETA: 0s - loss: 0.9630 - accuracy: 0.8949 WARNING:tensorflow:7 out of the last 8 calls to <function recreate_function.<locals>.restored_function_body at 0x1943a1820> triggered tf.function retracing. Tracing is expensive and the excessive number of tracings is likely due to passing python objects instead of tensors. Also, tf.function has experimental_relax_shapes=True option that relaxes argument shapes that can avoid unnecessary retracing. Please refer to https://www.tensorflow.org/tutorials/customization/performance#python_or_tensor_args and https://www.tensorflow.org/api_docs/python/tf/function for more details.\n"
     ]
    },
    {
     "name": "stderr",
     "output_type": "stream",
     "text": [
      "WARNING:tensorflow:7 out of the last 8 calls to <function recreate_function.<locals>.restored_function_body at 0x1943a1820> triggered tf.function retracing. Tracing is expensive and the excessive number of tracings is likely due to passing python objects instead of tensors. Also, tf.function has experimental_relax_shapes=True option that relaxes argument shapes that can avoid unnecessary retracing. Please refer to https://www.tensorflow.org/tutorials/customization/performance#python_or_tensor_args and https://www.tensorflow.org/api_docs/python/tf/function for more details.\n"
     ]
    },
    {
     "name": "stdout",
     "output_type": "stream",
     "text": [
      "INFO:tensorflow:Assets written to: tmp/checkpoint/assets\n"
     ]
    },
    {
     "name": "stderr",
     "output_type": "stream",
     "text": [
      "INFO:tensorflow:Assets written to: tmp/checkpoint/assets\n"
     ]
    },
    {
     "name": "stdout",
     "output_type": "stream",
     "text": [
      "36/36 [==============================] - 12489s 347s/step - loss: 0.9630 - accuracy: 0.8949 - val_loss: 0.9233 - val_accuracy: 0.9261\n",
      "Epoch 6/10\n",
      "36/36 [==============================] - ETA: 0s - loss: 0.8854 - accuracy: 0.9302 "
     ]
    }
   ],
   "source": [
    "from tensorflow.keras.callbacks import ModelCheckpoint\n",
    "\n",
    "checkpoint = ModelCheckpoint(\"tmp/checkpoint\", monitor=\"val_loss\", save_best_only=True)\n",
    "\n",
    "train_logs=model.fit(train_data, y_train, validation_split=0.20, \n",
    "                    epochs = 10, \n",
    "                    callbacks=[checkpoint], batch_size=32)"
   ]
  },
  {
   "cell_type": "code",
   "execution_count": null,
   "id": "0e2f59b7",
   "metadata": {},
   "outputs": [],
   "source": [
    "Preds=[]\n",
    "rawPreds = model.predict(test_data)\n",
    "for j in range(rawPreds.shape[0]):\n",
    "    pos=rawPreds[j].argmax()\n",
    "    Preds.append(y_test.columns[pos])\n",
    "\n",
    "\n",
    "from sklearn.metrics import classification_report \n",
    "print(classification_report(Preds, test_labels))"
   ]
  },
  {
   "cell_type": "code",
   "execution_count": null,
   "id": "8e234f5c",
   "metadata": {},
   "outputs": [],
   "source": []
  }
 ],
 "metadata": {
  "kernelspec": {
   "display_name": "Python 3",
   "language": "python",
   "name": "python3"
  },
  "language_info": {
   "codemirror_mode": {
    "name": "ipython",
    "version": 3
   },
   "file_extension": ".py",
   "mimetype": "text/x-python",
   "name": "python",
   "nbconvert_exporter": "python",
   "pygments_lexer": "ipython3",
   "version": "3.8.2"
  }
 },
 "nbformat": 4,
 "nbformat_minor": 5
}
